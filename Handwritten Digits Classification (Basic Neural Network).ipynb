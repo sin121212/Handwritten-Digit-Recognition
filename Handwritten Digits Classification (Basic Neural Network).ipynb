{
 "cells": [
  {
   "cell_type": "code",
   "execution_count": 35,
   "metadata": {
    "ExecuteTime": {
     "end_time": "2019-09-05T09:07:26.051128Z",
     "start_time": "2019-09-05T09:07:26.038398Z"
    }
   },
   "outputs": [],
   "source": [
    "from __future__ import absolute_import, division, print_function, unicode_literals\n",
    "\n",
    "import tensorflow as tf\n",
    "from tensorflow import keras\n",
    "from tensorflow.keras import datasets, layers, models\n",
    "\n",
    "import numpy as np\n",
    "import pandas as pd\n",
    "\n",
    "import matplotlib.pyplot as plt\n",
    "\n",
    "# Sets the threshold for what messages will be logged.\n",
    "tf.logging.set_verbosity(tf.logging.INFO)"
   ]
  },
  {
   "cell_type": "markdown",
   "metadata": {},
   "source": [
    "# 1. Data Preparation"
   ]
  },
  {
   "cell_type": "markdown",
   "metadata": {
    "ExecuteTime": {
     "end_time": "2019-08-23T14:44:09.465960Z",
     "start_time": "2019-08-23T14:44:09.459016Z"
    }
   },
   "source": [
    "## 1.1 Import Data\n",
    "\n",
    "Import handwritten digits from keras dataset."
   ]
  },
  {
   "cell_type": "code",
   "execution_count": 2,
   "metadata": {
    "ExecuteTime": {
     "end_time": "2019-09-05T07:37:33.825881Z",
     "start_time": "2019-09-05T07:37:33.169772Z"
    }
   },
   "outputs": [],
   "source": [
    "((train_data, train_labels),(eval_data, eval_labels)) = tf.keras.datasets.mnist.load_data()"
   ]
  },
  {
   "cell_type": "markdown",
   "metadata": {},
   "source": [
    "## 1.2 Data Preprocessing\n",
    "\n",
    "### 1.2.1. Normalization\n",
    "\n",
    "Scale these values to a range of 0 to 1 before feeding to the neural network model. \n",
    "For this, we divide the values by 255."
   ]
  },
  {
   "cell_type": "code",
   "execution_count": 3,
   "metadata": {
    "ExecuteTime": {
     "end_time": "2019-09-05T07:37:34.107128Z",
     "start_time": "2019-09-05T07:37:33.830678Z"
    }
   },
   "outputs": [],
   "source": [
    "train_data = train_data/np.float32(255)\n",
    "train_labels = train_labels.astype(np.int32)  \n",
    "\n",
    "eval_data = eval_data/np.float32(255)\n",
    "eval_labels = eval_labels.astype(np.int32) "
   ]
  },
  {
   "cell_type": "markdown",
   "metadata": {},
   "source": [
    "# 2. Data Exploration"
   ]
  },
  {
   "cell_type": "markdown",
   "metadata": {},
   "source": [
    "## 2.1 Training Dataset\n",
    "\n",
    "train_data: 60000 handwritten digits, each image is represented as 28 x 28 pixels\n",
    "\n",
    "train_labels: corresponding label of those 60000 handwritten digits, an integer between 0 ~ 9 (10 classes)"
   ]
  },
  {
   "cell_type": "code",
   "execution_count": 4,
   "metadata": {
    "ExecuteTime": {
     "end_time": "2019-09-05T07:37:34.119189Z",
     "start_time": "2019-09-05T07:37:34.111398Z"
    }
   },
   "outputs": [
    {
     "data": {
      "text/plain": [
       "(60000, 28, 28)"
      ]
     },
     "execution_count": 4,
     "metadata": {},
     "output_type": "execute_result"
    }
   ],
   "source": [
    "train_data.shape"
   ]
  },
  {
   "cell_type": "markdown",
   "metadata": {},
   "source": [
    "First image in training dataset: handwritten digits \"5\""
   ]
  },
  {
   "cell_type": "code",
   "execution_count": 5,
   "metadata": {
    "ExecuteTime": {
     "end_time": "2019-09-05T07:37:34.672458Z",
     "start_time": "2019-09-05T07:37:34.121783Z"
    }
   },
   "outputs": [
    {
     "data": {
      "image/png": "[encoded data removed]",
      "text/plain": [
       "<Figure size 432x288 with 2 Axes>"
      ]
     },
     "metadata": {
      "needs_background": "light"
     },
     "output_type": "display_data"
    }
   ],
   "source": [
    "plt.figure()\n",
    "plt.imshow(train_data[0])\n",
    "plt.colorbar()\n",
    "plt.grid(False)\n",
    "plt.show()"
   ]
  },
  {
   "cell_type": "markdown",
   "metadata": {},
   "source": [
    "## 1.2 Testing Dataset\n",
    "\n",
    "eval_data: 10000 handwritten digits, each image is represented as 28 x 28 pixels\n",
    "\n",
    "eval_labels: corresponding label of those 10000 handwritten digits, an integer between 0 ~ 9 (10 classes)"
   ]
  },
  {
   "cell_type": "code",
   "execution_count": 6,
   "metadata": {
    "ExecuteTime": {
     "end_time": "2019-09-05T07:37:34.685038Z",
     "start_time": "2019-09-05T07:37:34.674459Z"
    }
   },
   "outputs": [
    {
     "data": {
      "text/plain": [
       "(10000, 28, 28)"
      ]
     },
     "execution_count": 6,
     "metadata": {},
     "output_type": "execute_result"
    }
   ],
   "source": [
    "eval_data.shape"
   ]
  },
  {
   "cell_type": "markdown",
   "metadata": {},
   "source": [
    "First image in testing dataset: handwritten digits \"5\""
   ]
  },
  {
   "cell_type": "code",
   "execution_count": 7,
   "metadata": {
    "ExecuteTime": {
     "end_time": "2019-09-05T07:37:35.101135Z",
     "start_time": "2019-09-05T07:37:34.686066Z"
    }
   },
   "outputs": [
    {
     "data": {
      "image/png": "[encoded data removed]",
      "text/plain": [
       "<Figure size 432x288 with 2 Axes>"
      ]
     },
     "metadata": {
      "needs_background": "light"
     },
     "output_type": "display_data"
    }
   ],
   "source": [
    "plt.figure()\n",
    "plt.imshow(eval_data[0])\n",
    "plt.colorbar()\n",
    "plt.grid(False)\n",
    "plt.show()"
   ]
  },
  {
   "cell_type": "markdown",
   "metadata": {},
   "source": [
    "# 2. Multilayer Perceptrons (MLP) Neural Network  "
   ]
  },
  {
   "cell_type": "markdown",
   "metadata": {},
   "source": [
    "## 2.1. Structure of MLP Neural Network  \n",
    "\n",
    "MLP is the most popular type of neural network. The structure of MLP neural network contains the following elements:\n",
    "\n",
    "### 2.1.1 Input layer: \n",
    "\n",
    "    Features [X1,X2,..,Xn]\n",
    "    \n",
    "    \n",
    "### 2.1.2. Hidden layer(s) (one or more): \n",
    "\n",
    "    Neurons take in a set of weighted inputs and produce an output through an activation function.\n",
    "    Common examples of these functions are:\n",
    "    \n",
    "    Sigmoid Function: return value monotonically increasing most often from 0 to 1\n",
    "    tanh Function: return value monotonically increasing most often from -1 to 1\n",
    "    ReLU Function (If the initial output is negative, then output 0. If not, do nothing to the initial output)\n",
    "\n",
    "### 2.1.3. Output layer\n",
    "\n",
    "    Classification result that always produce by softmax function.\n",
    "    \n",
    "    Softmax function: An activation function that turns numbers aka logits into probabilities that sum to one.\n",
    "    Softmax function outputs a vector that represents the probability distributions of a list of potential outcomes."
   ]
  },
  {
   "cell_type": "markdown",
   "metadata": {},
   "source": [
    "## 2.2. Build MLP Neural Network  (3 hidden layers)\n",
    "\n",
    "### 2.2.1 Write Model Template\n",
    "\n",
    "Input layer: 28 x 28 pixels images\n",
    "\n",
    "3 Hidden layers: In each hidden layer, 100 neurons with relu activation function\n",
    "\n",
    "Output layer: probability of those image belong to 0 ~ 9 (10 classes)"
   ]
  },
  {
   "cell_type": "code",
   "execution_count": 8,
   "metadata": {
    "ExecuteTime": {
     "end_time": "2019-09-05T07:37:35.362442Z",
     "start_time": "2019-09-05T07:37:35.105796Z"
    }
   },
   "outputs": [
    {
     "name": "stderr",
     "output_type": "stream",
     "text": [
      "WARNING: Logging before flag parsing goes to stderr.\n",
      "W0905 15:37:35.165101  5200 deprecation.py:506] From C:\\Users\\user\\Anaconda3\\lib\\site-packages\\tensorflow\\python\\ops\\init_ops.py:1251: calling VarianceScaling.__init__ (from tensorflow.python.ops.init_ops) with dtype is deprecated and will be removed in a future version.\n",
      "Instructions for updating:\n",
      "Call initializer instance with the dtype argument instead of passing it to the constructor\n"
     ]
    }
   ],
   "source": [
    "model_1 = keras.Sequential([\n",
    "    keras.layers.Flatten(input_shape=(28, 28)),\n",
    "    keras.layers.Dense(100, activation=tf.nn.relu),\n",
    "    keras.layers.Dense(100, activation=tf.nn.relu),\n",
    "    keras.layers.Dense(100, activation=tf.nn.relu),\n",
    "    keras.layers.Dense(10, activation=tf.nn.softmax)\n",
    "])"
   ]
  },
  {
   "cell_type": "markdown",
   "metadata": {},
   "source": [
    "### 2.2.2. Compile Model\n",
    "\n",
    "Before the model is ready for training, it needs a few more settings. These are added during the model's compile step:\n",
    "\n",
    "Loss function —This measures how accurate the model is during training. We want to minimize this function to \"steer\" the model in the right direction.\n",
    "\n",
    "Optimizer —This is how the model is updated based on the data it sees and its loss function. 'adam\" uses the squared gradients to scale the learning rate.\n",
    "\n",
    "Metrics —Used to monitor the training and testing steps. The following example uses accuracy, the fraction of the images that are correctly classified."
   ]
  },
  {
   "cell_type": "code",
   "execution_count": 9,
   "metadata": {
    "ExecuteTime": {
     "end_time": "2019-09-05T07:37:35.460546Z",
     "start_time": "2019-09-05T07:37:35.366699Z"
    }
   },
   "outputs": [],
   "source": [
    "model_1.compile(optimizer='adam',\n",
    "              loss='sparse_categorical_crossentropy',\n",
    "              metrics=['accuracy'])"
   ]
  },
  {
   "cell_type": "code",
   "execution_count": 10,
   "metadata": {
    "ExecuteTime": {
     "end_time": "2019-09-05T07:39:17.547703Z",
     "start_time": "2019-09-05T07:37:35.461545Z"
    }
   },
   "outputs": [
    {
     "name": "stdout",
     "output_type": "stream",
     "text": [
      "Train on 60000 samples, validate on 10000 samples\n",
      "Epoch 1/10\n",
      "60000/60000 [==============================] - 11s 177us/sample - loss: 0.2421 - acc: 0.9266 - val_loss: 0.1332 - val_acc: 0.9583\n",
      "Epoch 2/10\n",
      "60000/60000 [==============================] - 10s 159us/sample - loss: 0.1032 - acc: 0.9679 - val_loss: 0.0927 - val_acc: 0.9717\n",
      "Epoch 3/10\n",
      "60000/60000 [==============================] - 10s 167us/sample - loss: 0.0761 - acc: 0.9763 - val_loss: 0.0792 - val_acc: 0.9756\n",
      "Epoch 4/10\n",
      "60000/60000 [==============================] - 10s 172us/sample - loss: 0.0603 - acc: 0.9804 - val_loss: 0.0828 - val_acc: 0.9736\n",
      "Epoch 5/10\n",
      "60000/60000 [==============================] - 9s 157us/sample - loss: 0.0501 - acc: 0.9840 - val_loss: 0.0837 - val_acc: 0.9748\n",
      "Epoch 6/10\n",
      "60000/60000 [==============================] - 10s 175us/sample - loss: 0.0403 - acc: 0.9868 - val_loss: 0.0990 - val_acc: 0.9714\n",
      "Epoch 7/10\n",
      "60000/60000 [==============================] - 10s 174us/sample - loss: 0.0352 - acc: 0.9885 - val_loss: 0.0842 - val_acc: 0.9756\n",
      "Epoch 8/10\n",
      "60000/60000 [==============================] - 10s 172us/sample - loss: 0.0303 - acc: 0.9902 - val_loss: 0.0963 - val_acc: 0.9750\n",
      "Epoch 9/10\n",
      "60000/60000 [==============================] - 10s 168us/sample - loss: 0.0266 - acc: 0.9915 - val_loss: 0.0881 - val_acc: 0.9787\n",
      "Epoch 10/10\n",
      "60000/60000 [==============================] - 10s 166us/sample - loss: 0.0249 - acc: 0.9916 - val_loss: 0.0950 - val_acc: 0.9779\n"
     ]
    }
   ],
   "source": [
    "hist_1 = model_1.fit(train_data, train_labels,\n",
    "                     epochs=10, \n",
    "                     validation_data=(eval_data, eval_labels))"
   ]
  },
  {
   "cell_type": "markdown",
   "metadata": {},
   "source": [
    "### Visualize the Model Loss Function (Model 1)\n",
    "\n",
    "This is a clear sign of over-fitting. The training loss is decreasing, but the validation loss is way above the training loss and increasing."
   ]
  },
  {
   "cell_type": "code",
   "execution_count": 11,
   "metadata": {
    "ExecuteTime": {
     "end_time": "2019-09-05T07:39:17.990050Z",
     "start_time": "2019-09-05T07:39:17.551741Z"
    }
   },
   "outputs": [
    {
     "data": {
      "image/png": "[encoded data removed]",
      "text/plain": [
       "<Figure size 432x288 with 1 Axes>"
      ]
     },
     "metadata": {
      "needs_background": "light"
     },
     "output_type": "display_data"
    }
   ],
   "source": [
    "plt.plot(hist_1.history['loss'])\n",
    "plt.plot(hist_1.history['val_loss'])\n",
    "plt.title('Model loss')\n",
    "plt.ylabel('Loss')\n",
    "plt.xlabel('Epoch')\n",
    "plt.legend(['Train', 'Val'], loc='upper right')\n",
    "plt.show()"
   ]
  },
  {
   "cell_type": "markdown",
   "metadata": {},
   "source": [
    "### 2.2.3. Reduce Over-fitting Problem\n",
    "\n",
    "Method 1: L2 Regularization\n",
    "\n",
    "    Add the penalty to the loss function. The penalty is the squared value of the parameters, so the larger the parameters, the higher the loss will be.\n",
    "\n",
    "Method 2: Dropout\n",
    "    \n",
    "    Randomly cause some of the neurons to be excluded from the neural network at each step with a fixed probability, it is forced to not overly rely on key neurons."
   ]
  },
  {
   "cell_type": "code",
   "execution_count": 12,
   "metadata": {
    "ExecuteTime": {
     "end_time": "2019-09-05T07:39:18.371771Z",
     "start_time": "2019-09-05T07:39:17.991070Z"
    }
   },
   "outputs": [],
   "source": [
    "model_2 = keras.Sequential([\n",
    "    keras.layers.Flatten(input_shape=(28, 28)),\n",
    "    keras.layers.Dense(100, activation=tf.nn.relu, kernel_regularizer=keras.regularizers.l2(0.01)),\n",
    "    keras.layers.Dropout(0.2),\n",
    "    keras.layers.Dense(100, activation=tf.nn.relu, kernel_regularizer=keras.regularizers.l2(0.01)),\n",
    "    keras.layers.Dropout(0.2),\n",
    "    keras.layers.Dense(100, activation=tf.nn.relu, kernel_regularizer=keras.regularizers.l2(0.01)),\n",
    "    keras.layers.Dropout(0.2),\n",
    "    keras.layers.Dense(10, activation=tf.nn.softmax)\n",
    "])\n",
    "\n",
    "model_2.compile(optimizer='adam',\n",
    "              loss='sparse_categorical_crossentropy',\n",
    "              metrics=['accuracy'])"
   ]
  },
  {
   "cell_type": "code",
   "execution_count": 13,
   "metadata": {
    "ExecuteTime": {
     "end_time": "2019-09-05T07:41:41.134799Z",
     "start_time": "2019-09-05T07:39:18.374588Z"
    }
   },
   "outputs": [
    {
     "name": "stdout",
     "output_type": "stream",
     "text": [
      "Train on 60000 samples, validate on 10000 samples\n",
      "Epoch 1/10\n",
      "60000/60000 [==============================] - 9s 154us/sample - loss: 1.0778 - acc: 0.8536 - val_loss: 0.6113 - val_acc: 0.9286\n",
      "Epoch 2/10\n",
      "60000/60000 [==============================] - 13s 219us/sample - loss: 0.6721 - acc: 0.9005 - val_loss: 0.5609 - val_acc: 0.9280\n",
      "Epoch 3/10\n",
      "60000/60000 [==============================] - 14s 232us/sample - loss: 0.6230 - acc: 0.9068 - val_loss: 0.5298 - val_acc: 0.9292\n",
      "Epoch 4/10\n",
      "60000/60000 [==============================] - 17s 277us/sample - loss: 0.5909 - acc: 0.9136 - val_loss: 0.5036 - val_acc: 0.9349\n",
      "Epoch 5/10\n",
      "60000/60000 [==============================] - 15s 243us/sample - loss: 0.5748 - acc: 0.9158 - val_loss: 0.4911 - val_acc: 0.9365\n",
      "Epoch 6/10\n",
      "60000/60000 [==============================] - 15s 252us/sample - loss: 0.5644 - acc: 0.9160 - val_loss: 0.4893 - val_acc: 0.9370\n",
      "Epoch 7/10\n",
      "60000/60000 [==============================] - 13s 220us/sample - loss: 0.5579 - acc: 0.9162 - val_loss: 0.4610 - val_acc: 0.9457\n",
      "Epoch 8/10\n",
      "60000/60000 [==============================] - 14s 228us/sample - loss: 0.5430 - acc: 0.9186 - val_loss: 0.4882 - val_acc: 0.9341\n",
      "Epoch 9/10\n",
      "60000/60000 [==============================] - 15s 250us/sample - loss: 0.5391 - acc: 0.9206 - val_loss: 0.4582 - val_acc: 0.9441\n",
      "Epoch 10/10\n",
      "60000/60000 [==============================] - 17s 291us/sample - loss: 0.5357 - acc: 0.9197 - val_loss: 0.4474 - val_acc: 0.9448\n"
     ]
    }
   ],
   "source": [
    "hist_2 = model_2.fit(train_data, train_labels,\n",
    "                     epochs=10, \n",
    "                     validation_data=(eval_data, eval_labels))"
   ]
  },
  {
   "cell_type": "markdown",
   "metadata": {},
   "source": [
    "### Visualize the Model Loss Function (Model 2)\n",
    "\n",
    "The validation loss much more closely matches our training loss."
   ]
  },
  {
   "cell_type": "code",
   "execution_count": 14,
   "metadata": {
    "ExecuteTime": {
     "end_time": "2019-09-05T07:41:41.563494Z",
     "start_time": "2019-09-05T07:41:41.141048Z"
    }
   },
   "outputs": [
    {
     "data": {
      "image/png": "[encoded data removed]",
      "text/plain": [
       "<Figure size 432x288 with 1 Axes>"
      ]
     },
     "metadata": {
      "needs_background": "light"
     },
     "output_type": "display_data"
    }
   ],
   "source": [
    "plt.plot(hist_2.history['loss'])\n",
    "plt.plot(hist_2.history['val_loss'])\n",
    "plt.title('Model loss')\n",
    "plt.ylabel('Loss')\n",
    "plt.xlabel('Epoch')\n",
    "plt.legend(['Train', 'Val'], loc='upper right')\n",
    "plt.show()"
   ]
  },
  {
   "cell_type": "markdown",
   "metadata": {},
   "source": [
    "# 3. Classification Result of Testing Data\n",
    "## 3.1 Predicted Class "
   ]
  },
  {
   "cell_type": "code",
   "execution_count": 15,
   "metadata": {
    "ExecuteTime": {
     "end_time": "2019-09-05T07:41:42.079255Z",
     "start_time": "2019-09-05T07:41:41.565812Z"
    }
   },
   "outputs": [
    {
     "data": {
      "text/plain": [
       "array([7, 2, 1, ..., 4, 5, 6], dtype=int64)"
      ]
     },
     "execution_count": 15,
     "metadata": {},
     "output_type": "execute_result"
    }
   ],
   "source": [
    "Pre_eval = hist_2.model.predict_classes(eval_data)\n",
    "Pre_eval"
   ]
  },
  {
   "cell_type": "markdown",
   "metadata": {},
   "source": [
    "## 3.2 Confusion Matrix"
   ]
  },
  {
   "cell_type": "code",
   "execution_count": 16,
   "metadata": {
    "ExecuteTime": {
     "end_time": "2019-09-05T07:41:42.567930Z",
     "start_time": "2019-09-05T07:41:42.082191Z"
    }
   },
   "outputs": [
    {
     "data": {
      "text/html": [
       "<div>\n",
       "<style scoped>\n",
       "    .dataframe tbody tr th:only-of-type {\n",
       "        vertical-align: middle;\n",
       "    }\n",
       "\n",
       "    .dataframe tbody tr th {\n",
       "        vertical-align: top;\n",
       "    }\n",
       "\n",
       "    .dataframe thead th {\n",
       "        text-align: right;\n",
       "    }\n",
       "</style>\n",
       "<table border=\"1\" class=\"dataframe\">\n",
       "  <thead>\n",
       "    <tr style=\"text-align: right;\">\n",
       "      <th>Predicted</th>\n",
       "      <th>0</th>\n",
       "      <th>1</th>\n",
       "      <th>2</th>\n",
       "      <th>3</th>\n",
       "      <th>4</th>\n",
       "      <th>5</th>\n",
       "      <th>6</th>\n",
       "      <th>7</th>\n",
       "      <th>8</th>\n",
       "      <th>9</th>\n",
       "    </tr>\n",
       "    <tr>\n",
       "      <th>Actual</th>\n",
       "      <th></th>\n",
       "      <th></th>\n",
       "      <th></th>\n",
       "      <th></th>\n",
       "      <th></th>\n",
       "      <th></th>\n",
       "      <th></th>\n",
       "      <th></th>\n",
       "      <th></th>\n",
       "      <th></th>\n",
       "    </tr>\n",
       "  </thead>\n",
       "  <tbody>\n",
       "    <tr>\n",
       "      <th>0</th>\n",
       "      <td>970</td>\n",
       "      <td>0</td>\n",
       "      <td>1</td>\n",
       "      <td>0</td>\n",
       "      <td>0</td>\n",
       "      <td>3</td>\n",
       "      <td>3</td>\n",
       "      <td>1</td>\n",
       "      <td>2</td>\n",
       "      <td>0</td>\n",
       "    </tr>\n",
       "    <tr>\n",
       "      <th>1</th>\n",
       "      <td>0</td>\n",
       "      <td>1110</td>\n",
       "      <td>2</td>\n",
       "      <td>1</td>\n",
       "      <td>1</td>\n",
       "      <td>0</td>\n",
       "      <td>7</td>\n",
       "      <td>1</td>\n",
       "      <td>13</td>\n",
       "      <td>0</td>\n",
       "    </tr>\n",
       "    <tr>\n",
       "      <th>2</th>\n",
       "      <td>16</td>\n",
       "      <td>3</td>\n",
       "      <td>957</td>\n",
       "      <td>5</td>\n",
       "      <td>9</td>\n",
       "      <td>0</td>\n",
       "      <td>8</td>\n",
       "      <td>24</td>\n",
       "      <td>10</td>\n",
       "      <td>0</td>\n",
       "    </tr>\n",
       "    <tr>\n",
       "      <th>3</th>\n",
       "      <td>4</td>\n",
       "      <td>2</td>\n",
       "      <td>31</td>\n",
       "      <td>890</td>\n",
       "      <td>0</td>\n",
       "      <td>53</td>\n",
       "      <td>0</td>\n",
       "      <td>11</td>\n",
       "      <td>16</td>\n",
       "      <td>3</td>\n",
       "    </tr>\n",
       "    <tr>\n",
       "      <th>4</th>\n",
       "      <td>1</td>\n",
       "      <td>1</td>\n",
       "      <td>1</td>\n",
       "      <td>0</td>\n",
       "      <td>931</td>\n",
       "      <td>0</td>\n",
       "      <td>10</td>\n",
       "      <td>4</td>\n",
       "      <td>1</td>\n",
       "      <td>33</td>\n",
       "    </tr>\n",
       "    <tr>\n",
       "      <th>5</th>\n",
       "      <td>13</td>\n",
       "      <td>0</td>\n",
       "      <td>0</td>\n",
       "      <td>1</td>\n",
       "      <td>3</td>\n",
       "      <td>851</td>\n",
       "      <td>13</td>\n",
       "      <td>2</td>\n",
       "      <td>6</td>\n",
       "      <td>3</td>\n",
       "    </tr>\n",
       "    <tr>\n",
       "      <th>6</th>\n",
       "      <td>10</td>\n",
       "      <td>3</td>\n",
       "      <td>0</td>\n",
       "      <td>0</td>\n",
       "      <td>12</td>\n",
       "      <td>8</td>\n",
       "      <td>923</td>\n",
       "      <td>0</td>\n",
       "      <td>2</td>\n",
       "      <td>0</td>\n",
       "    </tr>\n",
       "    <tr>\n",
       "      <th>7</th>\n",
       "      <td>1</td>\n",
       "      <td>14</td>\n",
       "      <td>13</td>\n",
       "      <td>1</td>\n",
       "      <td>7</td>\n",
       "      <td>0</td>\n",
       "      <td>0</td>\n",
       "      <td>984</td>\n",
       "      <td>0</td>\n",
       "      <td>8</td>\n",
       "    </tr>\n",
       "    <tr>\n",
       "      <th>8</th>\n",
       "      <td>11</td>\n",
       "      <td>2</td>\n",
       "      <td>3</td>\n",
       "      <td>3</td>\n",
       "      <td>5</td>\n",
       "      <td>13</td>\n",
       "      <td>13</td>\n",
       "      <td>9</td>\n",
       "      <td>903</td>\n",
       "      <td>12</td>\n",
       "    </tr>\n",
       "    <tr>\n",
       "      <th>9</th>\n",
       "      <td>5</td>\n",
       "      <td>6</td>\n",
       "      <td>1</td>\n",
       "      <td>7</td>\n",
       "      <td>16</td>\n",
       "      <td>16</td>\n",
       "      <td>1</td>\n",
       "      <td>21</td>\n",
       "      <td>7</td>\n",
       "      <td>929</td>\n",
       "    </tr>\n",
       "  </tbody>\n",
       "</table>\n",
       "</div>"
      ],
      "text/plain": [
       "Predicted    0     1    2    3    4    5    6    7    8    9\n",
       "Actual                                                      \n",
       "0          970     0    1    0    0    3    3    1    2    0\n",
       "1            0  1110    2    1    1    0    7    1   13    0\n",
       "2           16     3  957    5    9    0    8   24   10    0\n",
       "3            4     2   31  890    0   53    0   11   16    3\n",
       "4            1     1    1    0  931    0   10    4    1   33\n",
       "5           13     0    0    1    3  851   13    2    6    3\n",
       "6           10     3    0    0   12    8  923    0    2    0\n",
       "7            1    14   13    1    7    0    0  984    0    8\n",
       "8           11     2    3    3    5   13   13    9  903   12\n",
       "9            5     6    1    7   16   16    1   21    7  929"
      ]
     },
     "execution_count": 16,
     "metadata": {},
     "output_type": "execute_result"
    }
   ],
   "source": [
    "CM = pd.crosstab(eval_labels, hist_2.model.predict_classes(eval_data),rownames=['Actual'], colnames=['Predicted'])\n",
    "CM"
   ]
  },
  {
   "cell_type": "markdown",
   "metadata": {},
   "source": [
    "# 4. Save & Load Model\n",
    "## 4.1 Save Model"
   ]
  },
  {
   "cell_type": "code",
   "execution_count": 17,
   "metadata": {
    "ExecuteTime": {
     "end_time": "2019-09-05T07:41:42.891664Z",
     "start_time": "2019-09-05T07:41:42.570414Z"
    }
   },
   "outputs": [],
   "source": [
    "model_2.save('my_model_2.h5')"
   ]
  },
  {
   "cell_type": "markdown",
   "metadata": {},
   "source": [
    "## 4.2 Load Model "
   ]
  },
  {
   "cell_type": "code",
   "execution_count": 18,
   "metadata": {
    "ExecuteTime": {
     "end_time": "2019-09-05T07:41:44.731432Z",
     "start_time": "2019-09-05T07:41:42.894401Z"
    }
   },
   "outputs": [
    {
     "name": "stderr",
     "output_type": "stream",
     "text": [
      "W0905 15:41:42.914183  5200 deprecation.py:506] From C:\\Users\\user\\Anaconda3\\lib\\site-packages\\tensorflow\\python\\ops\\init_ops.py:97: calling GlorotUniform.__init__ (from tensorflow.python.ops.init_ops) with dtype is deprecated and will be removed in a future version.\n",
      "Instructions for updating:\n",
      "Call initializer instance with the dtype argument instead of passing it to the constructor\n",
      "W0905 15:41:42.915179  5200 deprecation.py:506] From C:\\Users\\user\\Anaconda3\\lib\\site-packages\\tensorflow\\python\\ops\\init_ops.py:97: calling Zeros.__init__ (from tensorflow.python.ops.init_ops) with dtype is deprecated and will be removed in a future version.\n",
      "Instructions for updating:\n",
      "Call initializer instance with the dtype argument instead of passing it to the constructor\n"
     ]
    },
    {
     "name": "stdout",
     "output_type": "stream",
     "text": [
      "Model: \"sequential_1\"\n",
      "_________________________________________________________________\n",
      "Layer (type)                 Output Shape              Param #   \n",
      "=================================================================\n",
      "flatten_1 (Flatten)          (None, 784)               0         \n",
      "_________________________________________________________________\n",
      "dense_4 (Dense)              (None, 100)               78500     \n",
      "_________________________________________________________________\n",
      "dropout (Dropout)            (None, 100)               0         \n",
      "_________________________________________________________________\n",
      "dense_5 (Dense)              (None, 100)               10100     \n",
      "_________________________________________________________________\n",
      "dropout_1 (Dropout)          (None, 100)               0         \n",
      "_________________________________________________________________\n",
      "dense_6 (Dense)              (None, 100)               10100     \n",
      "_________________________________________________________________\n",
      "dropout_2 (Dropout)          (None, 100)               0         \n",
      "_________________________________________________________________\n",
      "dense_7 (Dense)              (None, 10)                1010      \n",
      "=================================================================\n",
      "Total params: 99,710\n",
      "Trainable params: 99,710\n",
      "Non-trainable params: 0\n",
      "_________________________________________________________________\n"
     ]
    }
   ],
   "source": [
    "reload_model = keras.models.load_model('my_model_2.h5')\n",
    "reload_model.summary()"
   ]
  },
  {
   "cell_type": "code",
   "execution_count": null,
   "metadata": {
    "ExecuteTime": {
     "end_time": "2019-09-05T08:43:39.655019Z",
     "start_time": "2019-09-05T08:43:39.613405Z"
    }
   },
   "outputs": [],
   "source": []
  }
 ],
 "metadata": {
  "kernelspec": {
   "display_name": "Python 3",
   "language": "python",
   "name": "python3"
  },
  "language_info": {
   "codemirror_mode": {
    "name": "ipython",
    "version": 3
   },
   "file_extension": ".py",
   "mimetype": "text/x-python",
   "name": "python",
   "nbconvert_exporter": "python",
   "pygments_lexer": "ipython3",
   "version": "3.6.9"
  },
  "varInspector": {
   "cols": {
    "lenName": 16,
    "lenType": 16,
    "lenVar": 40
   },
   "kernels_config": {
    "python": {
     "delete_cmd_postfix": "",
     "delete_cmd_prefix": "del ",
     "library": "var_list.py",
     "varRefreshCmd": "print(var_dic_list())"
    },
    "r": {
     "delete_cmd_postfix": ") ",
     "delete_cmd_prefix": "rm(",
     "library": "var_list.r",
     "varRefreshCmd": "cat(var_dic_list()) "
    }
   },
   "oldHeight": 333.333666,
   "position": {
    "height": "40px",
    "left": "826.333px",
    "right": "20px",
    "top": "127px",
    "width": "331.667px"
   },
   "types_to_exclude": [
    "module",
    "function",
    "builtin_function_or_method",
    "instance",
    "_Feature"
   ],
   "varInspector_section_display": "none",
   "window_display": true
  }
 },
 "nbformat": 4,
 "nbformat_minor": 2
}
